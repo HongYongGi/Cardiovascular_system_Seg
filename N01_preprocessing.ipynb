{
 "cells": [
  {
   "cell_type": "markdown",
   "metadata": {},
   "source": [
    "# Log\n",
    "\n",
    "* Written by HongYongGi / email : yonggi@tesser.co.kr\n",
    "\n",
    "* Written date : 20240611\n",
    "\n",
    "---"
   ]
  },
  {
   "cell_type": "code",
   "execution_count": 9,
   "metadata": {},
   "outputs": [],
   "source": [
    "import os, glob, shutil\n",
    "import nibabel as nib\n",
    "import numpy as np\n",
    "import pandas as pd\n",
    "import matplotlib.pyplot as plt\n",
    "from tqdm import tqdm\n"
   ]
  },
  {
   "cell_type": "code",
   "execution_count": 10,
   "metadata": {},
   "outputs": [
    {
     "data": {
      "text/plain": [
       "123"
      ]
     },
     "execution_count": 10,
     "metadata": {},
     "output_type": "execute_result"
    }
   ],
   "source": [
    "organ_list = os.listdir('F:/Dataset/vessel_20240611/s0004/segmentations/')\n",
    "organ_list.sort()\n",
    "len(organ_list)"
   ]
  },
  {
   "cell_type": "code",
   "execution_count": 14,
   "metadata": {},
   "outputs": [],
   "source": [
    "dict1 = {\n",
    "    'common_carotid_artery_left.nii.gz' : 1,\n",
    "    'common_carotid_artery_right.nii.gz' : 2,\n",
    "    'subclavian_artery_left.nii.gz' : 3,\n",
    "    'subclavian_artery_right.nii.gz' : 4,\n",
    "    'brachiocephalic_trunk.nii.gz' : 5,\n",
    "    'brachiocephalic_vein_left.nii.gz' : 6,\n",
    "    'brachiocephalic_vein_right.nii.gz' : 7,\n",
    "    'superior_vena_cava.nii.gz' : 8,\n",
    "    'inferior_vena_cava.nii.gz' : 9,\n",
    "    'aorta.nii.gz' : 10,\n",
    "    'heart_atrium_left.nii.gz' : 11,\n",
    "    'heart_atrium_right.nii.gz' : 12,\n",
    "    'heart_myocardium.nii.gz' : 13,\n",
    "    'heart_ventricle_left.nii.gz' : 14,\n",
    "    'heart_ventricle_right.nii.gz' : 15,    \n",
    "    'portal_vein_and_splenic_vein.nii.gz' : 16,\n",
    "    'pulmonary_artery.nii.gz' : 17,\n",
    "    'pulmonary_vein.nii.gz' : 18,\n",
    "    'iliac_artery_left.nii.gz' : 19,\n",
    "    'iliac_artery_right.nii.gz' : 20,\n",
    "    'iliac_vena_left.nii.gz' : 21,\n",
    "    'iliac_vena_right.nii.gz' : 22,    \n",
    "    'atrial_appendage_left.nii.gz' :23\n",
    "}"
   ]
  },
  {
   "cell_type": "code",
   "execution_count": 12,
   "metadata": {},
   "outputs": [
    {
     "data": {
      "text/plain": [
       "924"
      ]
     },
     "execution_count": 12,
     "metadata": {},
     "output_type": "execute_result"
    }
   ],
   "source": [
    "paths  = glob.glob('F:/Dataset/vessel_20240611/*/ct*')\n",
    "paths.sort()\n",
    "len(paths)"
   ]
  },
  {
   "cell_type": "code",
   "execution_count": 17,
   "metadata": {},
   "outputs": [
    {
     "name": "stderr",
     "output_type": "stream",
     "text": [
      "100%|██████████| 924/924 [1:14:51<00:00,  4.86s/it]\n"
     ]
    }
   ],
   "source": [
    "for path in tqdm(paths):\n",
    "    subject  = os.path.basename(os.path.dirname(path))\n",
    "    image_save_path  = f'F:/Dataset/totalseg_vessel/imagesTr/{subject}_0000.nii.gz'\n",
    "    label_save_path = f'F:/Dataset/totalseg_vessel/labelsTr/{subject}.nii.gz'\n",
    "    image = nib.load(path)\n",
    "    header = image.header\n",
    "    affine = image.affine\n",
    "    image = image.get_fdata()\n",
    "    mask  = np.zeros_like(image)\n",
    "    for organ in dict1:\n",
    "        organ_array= nib.load(f'F:/Dataset/vessel_20240611/{subject}/segmentations/{organ}').get_fdata()\n",
    "        mask[organ_array > 0] = dict1[organ]\n",
    "        \n",
    "    mask = mask.astype(np.uint8)\n",
    "    mask = nib.Nifti1Image(mask, affine, header)\n",
    "    image = nib.Nifti1Image(image, affine, header)\n",
    "    nib.save(image, image_save_path)\n",
    "    nib.save(mask, label_save_path)\n",
    "    "
   ]
  },
  {
   "cell_type": "code",
   "execution_count": null,
   "metadata": {},
   "outputs": [],
   "source": []
  }
 ],
 "metadata": {
  "kernelspec": {
   "display_name": "TS",
   "language": "python",
   "name": "python3"
  },
  "language_info": {
   "codemirror_mode": {
    "name": "ipython",
    "version": 3
   },
   "file_extension": ".py",
   "mimetype": "text/x-python",
   "name": "python",
   "nbconvert_exporter": "python",
   "pygments_lexer": "ipython3",
   "version": "3.9.18"
  }
 },
 "nbformat": 4,
 "nbformat_minor": 2
}
